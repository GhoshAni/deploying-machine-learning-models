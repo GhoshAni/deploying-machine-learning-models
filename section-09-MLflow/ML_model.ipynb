{
 "cells": [
  {
   "cell_type": "markdown",
   "metadata": {},
   "source": [
    "## MLflow Models\n",
    "\n",
    "An MLflow model is a standard format of packaging machine learning models that can be used in various deployment tools\n",
    "\n",
    "like Rest API, batch Inference or Apache Spark\n",
    "\n",
    "## Storage Formats\n",
    "\n",
    "Each MLFlow model is a directory containing arbitrary files together with an ML model file at the root of the directory\n",
    "that can define multiple flavors that the model can be viewed on.\n",
    "\n"
   ]
  }
 ],
 "metadata": {
  "kernelspec": {
   "display_name": "base",
   "language": "python",
   "name": "python3"
  },
  "language_info": {
   "name": "python",
   "version": "3.9.13"
  }
 },
 "nbformat": 4,
 "nbformat_minor": 2
}
